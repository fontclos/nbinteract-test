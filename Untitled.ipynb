{
 "cells": [
  {
   "cell_type": "code",
   "execution_count": 15,
   "metadata": {},
   "outputs": [],
   "source": [
    "import k3d\n",
    "import numpy as np"
   ]
  },
  {
   "cell_type": "code",
   "execution_count": 16,
   "metadata": {},
   "outputs": [
    {
     "data": {
      "application/vnd.jupyter.widget-view+json": {
       "model_id": "c2a3533f5dc94f738f5ab12c27530c68",
       "version_major": 2,
       "version_minor": 0
      },
      "text/plain": [
       "Output()"
      ]
     },
     "metadata": {},
     "output_type": "display_data"
    }
   ],
   "source": [
    "points = np.random.randn(10, 3)\n",
    "k3d.points(points)"
   ]
  },
  {
   "cell_type": "code",
   "execution_count": null,
   "metadata": {},
   "outputs": [],
   "source": []
  }
 ],
 "metadata": {
  "kernelspec": {
   "display_name": "Python 3",
   "language": "python",
   "name": "python3"
  },
  "language_info": {
   "codemirror_mode": {
    "name": "ipython",
    "version": 3
   },
   "file_extension": ".py",
   "mimetype": "text/x-python",
   "name": "python",
   "nbconvert_exporter": "python",
   "pygments_lexer": "ipython3",
   "version": "3.6.7"
  },
  "widgets": {
   "application/vnd.jupyter.widget-state+json": {
    "state": {
     "0f442241d70e48a99f88796c7ea9179c": {
      "model_module": "@jupyter-widgets/output",
      "model_module_version": "1.0.0",
      "model_name": "OutputModel",
      "state": {
       "layout": "IPY_MODEL_8f86f9d22e7145c4b0d77d61d084d24f",
       "outputs": [
        {
         "data": {
          "text/plain": "2500"
         },
         "metadata": {},
         "output_type": "display_data"
        }
       ]
      }
     },
     "20cd2c1ddd9444d08d652363509b08d5": {
      "model_module": "@jupyter-widgets/controls",
      "model_module_version": "1.4.0",
      "model_name": "VBoxModel",
      "state": {
       "_dom_classes": [
        "widget-interact"
       ],
       "children": [
        "IPY_MODEL_6aa2eee46208480c960df1aa0b8f47aa",
        "IPY_MODEL_c939816f06d2461b9d343cb546f6b0e6"
       ],
       "layout": "IPY_MODEL_2ef3f44f04a5496e8d1a0e6aad042f41"
      }
     },
     "2ef3f44f04a5496e8d1a0e6aad042f41": {
      "model_module": "@jupyter-widgets/base",
      "model_module_version": "1.1.0",
      "model_name": "LayoutModel",
      "state": {}
     },
     "30195ac8a2bc4551a32166e3121c68c7": {
      "model_module": "@jupyter-widgets/base",
      "model_module_version": "1.1.0",
      "model_name": "LayoutModel",
      "state": {}
     },
     "45ac0744f74d485d98875f22f5af802e": {
      "model_module": "@jupyter-widgets/controls",
      "model_module_version": "1.4.0",
      "model_name": "SliderStyleModel",
      "state": {
       "description_width": ""
      }
     },
     "67668d7d216644cda8239fc699c0c50d": {
      "model_module": "@jupyter-widgets/controls",
      "model_module_version": "1.4.0",
      "model_name": "IntSliderModel",
      "state": {
       "description": "x",
       "layout": "IPY_MODEL_7bd67d49797848ed948f11df2c9b9cdd",
       "step": 10,
       "style": "IPY_MODEL_45ac0744f74d485d98875f22f5af802e",
       "value": 50
      }
     },
     "6aa2eee46208480c960df1aa0b8f47aa": {
      "model_module": "@jupyter-widgets/controls",
      "model_module_version": "1.4.0",
      "model_name": "IntSliderModel",
      "state": {
       "description": "example_num",
       "layout": "IPY_MODEL_30195ac8a2bc4551a32166e3121c68c7",
       "max": 10,
       "style": "IPY_MODEL_89acd606e6b64b1caacbcff32437dfb4",
       "value": 3
      }
     },
     "7bd67d49797848ed948f11df2c9b9cdd": {
      "model_module": "@jupyter-widgets/base",
      "model_module_version": "1.1.0",
      "model_name": "LayoutModel",
      "state": {}
     },
     "89acd606e6b64b1caacbcff32437dfb4": {
      "model_module": "@jupyter-widgets/controls",
      "model_module_version": "1.4.0",
      "model_name": "SliderStyleModel",
      "state": {
       "description_width": ""
      }
     },
     "8f86f9d22e7145c4b0d77d61d084d24f": {
      "model_module": "@jupyter-widgets/base",
      "model_module_version": "1.1.0",
      "model_name": "LayoutModel",
      "state": {}
     },
     "c16236ca9aa74e6eaee1e1f3f4bbd952": {
      "model_module": "@jupyter-widgets/base",
      "model_module_version": "1.1.0",
      "model_name": "LayoutModel",
      "state": {}
     },
     "c2bc47fcc6674647af699132738a1ea1": {
      "model_module": "@jupyter-widgets/controls",
      "model_module_version": "1.4.0",
      "model_name": "VBoxModel",
      "state": {
       "_dom_classes": [
        "widget-interact"
       ],
       "children": [
        "IPY_MODEL_67668d7d216644cda8239fc699c0c50d",
        "IPY_MODEL_0f442241d70e48a99f88796c7ea9179c"
       ],
       "layout": "IPY_MODEL_dd23c6f25c87476f83f7b657fc9d0464"
      }
     },
     "c939816f06d2461b9d343cb546f6b0e6": {
      "model_module": "@jupyter-widgets/output",
      "model_module_version": "1.0.0",
      "model_name": "OutputModel",
      "state": {
       "layout": "IPY_MODEL_c16236ca9aa74e6eaee1e1f3f4bbd952",
       "outputs": [
        {
         "data": {
          "text/plain": "('Car', 'Goat 1', 'Goat 2')"
         },
         "metadata": {},
         "output_type": "display_data"
        }
       ]
      }
     },
     "dd23c6f25c87476f83f7b657fc9d0464": {
      "model_module": "@jupyter-widgets/base",
      "model_module_version": "1.1.0",
      "model_name": "LayoutModel",
      "state": {}
     }
    },
    "version_major": 2,
    "version_minor": 0
   }
  }
 },
 "nbformat": 4,
 "nbformat_minor": 2
}
